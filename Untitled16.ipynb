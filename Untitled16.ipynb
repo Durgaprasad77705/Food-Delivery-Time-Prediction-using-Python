{
  "cells": [
    {
      "cell_type": "markdown",
      "metadata": {
        "id": "view-in-github",
        "colab_type": "text"
      },
      "source": [
        "<a href=\"https://colab.research.google.com/github/Durgaprasad77705/Food-Delivery-Time-Prediction-using-Python/blob/main/Untitled16.ipynb\" target=\"_parent\"><img src=\"https://colab.research.google.com/assets/colab-badge.svg\" alt=\"Open In Colab\"/></a>"
      ]
    },
    {
      "cell_type": "code",
      "execution_count": null,
      "metadata": {
        "colab": {
          "base_uri": "https://localhost:8080/"
        },
        "id": "kkP-zQ_VGrHp",
        "outputId": "cf9e026d-f98f-4fb4-b657-a11baef33d46"
      },
      "outputs": [
        {
          "name": "stdout",
          "output_type": "stream",
          "text": [
            "     ID Delivery_person_ID  Delivery_person_Age  Delivery_person_Ratings  \\\n",
            "0  4607     INDORES13DEL02                 37.0                      4.9   \n",
            "1  B379     BANGRES18DEL02                 34.0                      4.5   \n",
            "2  5D6D     BANGRES19DEL01                 23.0                      4.4   \n",
            "3  7A6A    COIMBRES13DEL02                 38.0                      4.7   \n",
            "4  70A2     CHENRES12DEL01                 32.0                      4.6   \n",
            "\n",
            "   Restaurant_latitude  Restaurant_longitude  Delivery_location_latitude  \\\n",
            "0            22.745049             75.892471                   22.765049   \n",
            "1            12.913041             77.683237                   13.043041   \n",
            "2            12.914264             77.678400                   12.924264   \n",
            "3            11.003669             76.976494                   11.053669   \n",
            "4            12.972793             80.249982                   13.012793   \n",
            "\n",
            "   Delivery_location_longitude Type_of_order Type_of_vehicle  Time_taken(min)  \n",
            "0                    75.912471        Snack      motorcycle              24.0  \n",
            "1                    77.813237        Snack         scooter              33.0  \n",
            "2                    77.688400       Drinks      motorcycle              26.0  \n",
            "3                    77.026494       Buffet      motorcycle              21.0  \n",
            "4                    80.289982        Snack         scooter              30.0  \n"
          ]
        }
      ],
      "source": [
        "import pandas as pd\n",
        "import numpy as np\n",
        "import plotly.express as px\n",
        "\n",
        "data = pd.read_csv(\"/content/deliverytime.txt\")\n",
        "print(data.head())"
      ]
    },
    {
      "cell_type": "code",
      "execution_count": null,
      "metadata": {
        "colab": {
          "base_uri": "https://localhost:8080/"
        },
        "id": "4kqkr_CYJCCS",
        "outputId": "78c73ad8-61b8-4508-f6b9-f068a1950a27"
      },
      "outputs": [
        {
          "name": "stdout",
          "output_type": "stream",
          "text": [
            "<class 'pandas.core.frame.DataFrame'>\n",
            "RangeIndex: 24378 entries, 0 to 24377\n",
            "Data columns (total 11 columns):\n",
            " #   Column                       Non-Null Count  Dtype  \n",
            "---  ------                       --------------  -----  \n",
            " 0   ID                           24378 non-null  object \n",
            " 1   Delivery_person_ID           24378 non-null  object \n",
            " 2   Delivery_person_Age          24377 non-null  float64\n",
            " 3   Delivery_person_Ratings      24377 non-null  float64\n",
            " 4   Restaurant_latitude          24377 non-null  float64\n",
            " 5   Restaurant_longitude         24377 non-null  float64\n",
            " 6   Delivery_location_latitude   24377 non-null  float64\n",
            " 7   Delivery_location_longitude  24377 non-null  float64\n",
            " 8   Type_of_order                24377 non-null  object \n",
            " 9   Type_of_vehicle              24377 non-null  object \n",
            " 10  Time_taken(min)              24377 non-null  float64\n",
            "dtypes: float64(7), object(4)\n",
            "memory usage: 2.0+ MB\n"
          ]
        }
      ],
      "source": [
        "data.info()"
      ]
    },
    {
      "cell_type": "code",
      "execution_count": null,
      "metadata": {
        "colab": {
          "base_uri": "https://localhost:8080/",
          "height": 429
        },
        "id": "4vr8hywjJEAV",
        "outputId": "5bf352a2-3ad5-465a-a4fb-d5611e6ef5a4"
      },
      "outputs": [
        {
          "data": {
            "text/html": [
              "<div>\n",
              "<style scoped>\n",
              "    .dataframe tbody tr th:only-of-type {\n",
              "        vertical-align: middle;\n",
              "    }\n",
              "\n",
              "    .dataframe tbody tr th {\n",
              "        vertical-align: top;\n",
              "    }\n",
              "\n",
              "    .dataframe thead th {\n",
              "        text-align: right;\n",
              "    }\n",
              "</style>\n",
              "<table border=\"1\" class=\"dataframe\">\n",
              "  <thead>\n",
              "    <tr style=\"text-align: right;\">\n",
              "      <th></th>\n",
              "      <th>0</th>\n",
              "    </tr>\n",
              "  </thead>\n",
              "  <tbody>\n",
              "    <tr>\n",
              "      <th>ID</th>\n",
              "      <td>0</td>\n",
              "    </tr>\n",
              "    <tr>\n",
              "      <th>Delivery_person_ID</th>\n",
              "      <td>0</td>\n",
              "    </tr>\n",
              "    <tr>\n",
              "      <th>Delivery_person_Age</th>\n",
              "      <td>1</td>\n",
              "    </tr>\n",
              "    <tr>\n",
              "      <th>Delivery_person_Ratings</th>\n",
              "      <td>1</td>\n",
              "    </tr>\n",
              "    <tr>\n",
              "      <th>Restaurant_latitude</th>\n",
              "      <td>1</td>\n",
              "    </tr>\n",
              "    <tr>\n",
              "      <th>Restaurant_longitude</th>\n",
              "      <td>1</td>\n",
              "    </tr>\n",
              "    <tr>\n",
              "      <th>Delivery_location_latitude</th>\n",
              "      <td>1</td>\n",
              "    </tr>\n",
              "    <tr>\n",
              "      <th>Delivery_location_longitude</th>\n",
              "      <td>1</td>\n",
              "    </tr>\n",
              "    <tr>\n",
              "      <th>Type_of_order</th>\n",
              "      <td>1</td>\n",
              "    </tr>\n",
              "    <tr>\n",
              "      <th>Type_of_vehicle</th>\n",
              "      <td>1</td>\n",
              "    </tr>\n",
              "    <tr>\n",
              "      <th>Time_taken(min)</th>\n",
              "      <td>1</td>\n",
              "    </tr>\n",
              "  </tbody>\n",
              "</table>\n",
              "</div><br><label><b>dtype:</b> int64</label>"
            ],
            "text/plain": [
              "ID                             0\n",
              "Delivery_person_ID             0\n",
              "Delivery_person_Age            1\n",
              "Delivery_person_Ratings        1\n",
              "Restaurant_latitude            1\n",
              "Restaurant_longitude           1\n",
              "Delivery_location_latitude     1\n",
              "Delivery_location_longitude    1\n",
              "Type_of_order                  1\n",
              "Type_of_vehicle                1\n",
              "Time_taken(min)                1\n",
              "dtype: int64"
            ]
          },
          "execution_count": 3,
          "metadata": {},
          "output_type": "execute_result"
        }
      ],
      "source": [
        "data.isnull().sum()"
      ]
    },
    {
      "cell_type": "code",
      "execution_count": null,
      "metadata": {
        "id": "PqG7HjsUJJsc"
      },
      "outputs": [],
      "source": [
        "R = 6371\n"
      ]
    },
    {
      "cell_type": "code",
      "execution_count": null,
      "metadata": {
        "id": "_OvxH9YaJQLX"
      },
      "outputs": [],
      "source": [
        "def deg_to_rad(degrees):\n",
        "    return degrees * (np.pi/180)"
      ]
    },
    {
      "cell_type": "code",
      "execution_count": null,
      "metadata": {
        "id": "XEzoidTaJUCD"
      },
      "outputs": [],
      "source": [
        "def distcalculate(lat1, lon1, lat2, lon2):\n",
        "    d_lat = deg_to_rad(lat2-lat1)\n",
        "    d_lon = deg_to_rad(lon2-lon1)\n",
        "    a = np.sin(d_lat/2)**2 + np.cos(deg_to_rad(lat1)) * np.cos(deg_to_rad(lat2)) * np.sin(d_lon/2)**2\n",
        "    c = 2 * np.arctan2(np.sqrt(a), np.sqrt(1-a))\n",
        "    return R * c"
      ]
    },
    {
      "cell_type": "code",
      "execution_count": null,
      "metadata": {
        "id": "WliQ0BxJJYWT"
      },
      "outputs": [],
      "source": [
        "data['distance'] = np.nan\n",
        "\n",
        "for i in range(len(data)):\n",
        "    data.loc[i, 'distance'] = distcalculate(data.loc[i, 'Restaurant_latitude'],\n",
        "                                        data.loc[i, 'Restaurant_longitude'],\n",
        "                                        data.loc[i, 'Delivery_location_latitude'],\n",
        "                                        data.loc[i, 'Delivery_location_longitude'])"
      ]
    },
    {
      "cell_type": "code",
      "source": [
        "print(data.head())figure = px.scatter(data_frame = data,\n",
        "                    x=\"distance\",\n",
        "                    y=\"Time_taken(min)\",\n",
        "                    size=\"Time_taken(min)\",\n",
        "                    trendline=\"ols\",\n",
        "                    title = \"Relationship Between Distance and Time Taken\")\n",
        "figure.show()"
      ],
      "metadata": {
        "id": "iiwRP4aI8eU3"
      },
      "execution_count": null,
      "outputs": []
    },
    {
      "cell_type": "code",
      "source": [
        "figure = px.scatter(data_frame = data,\n",
        "                    x=\"Delivery_person_Age\",\n",
        "                    y=\"Time_taken(min)\",\n",
        "                    size=\"Time_taken(min)\",\n",
        "                    color = \"distance\",\n",
        "                    trendline=\"ols\",\n",
        "                    title = \"Relationship Between Time Taken and Age\")\n",
        "figure.show()"
      ],
      "metadata": {
        "id": "7qxYXLhH8eTM"
      },
      "execution_count": null,
      "outputs": []
    },
    {
      "cell_type": "code",
      "source": [
        "figure = px.scatter(data_frame = data,\n",
        "                    x=\"Delivery_person_Ratings\",\n",
        "                    y=\"Time_taken(min)\",\n",
        "                    size=\"Time_taken(min)\",\n",
        "                    color = \"distance\",\n",
        "                    trendline=\"ols\",\n",
        "                    title = \"Relationship Between Time Taken and Ratings\")\n",
        "figure.show()"
      ],
      "metadata": {
        "id": "Ji6oP-Vb8rtu"
      },
      "execution_count": null,
      "outputs": []
    },
    {
      "cell_type": "code",
      "source": [
        "fig = px.box(data,\n",
        "             x=\"Type_of_vehicle\",\n",
        "             y=\"Time_taken(min)\",\n",
        "             color=\"Type_of_order\")\n",
        "fig.show()"
      ],
      "metadata": {
        "id": "czY7wo0I8vJY"
      },
      "execution_count": null,
      "outputs": []
    },
    {
      "cell_type": "code",
      "source": [
        "fig = px.box(data,\n",
        "             x=\"Type_of_vehicle\",\n",
        "             y=\"Time_taken(min)\",\n",
        "             color=\"Type_of_order\")\n",
        "fig.show()"
      ],
      "metadata": {
        "id": "P22B3pSD8zl3"
      },
      "execution_count": null,
      "outputs": []
    },
    {
      "cell_type": "code",
      "source": [
        "from keras.models import Sequential\n",
        "from keras.layers import Dense, LSTM\n",
        "model = Sequential()\n",
        "model.add(LSTM(128, return_sequences=True, input_shape= (xtrain.shape[1], 1)))\n",
        "model.add(LSTM(64, return_sequences=False))\n",
        "model.add(Dense(25))\n",
        "model.add(Dense(1))\n",
        "model.summary()"
      ],
      "metadata": {
        "id": "B-zFm1hE83yJ"
      },
      "execution_count": null,
      "outputs": []
    },
    {
      "cell_type": "code",
      "source": [
        "model.compile(optimizer='adam', loss='mean_squared_error')\n",
        "model.fit(xtrain, ytrain, batch_size=1, epochs=9)"
      ],
      "metadata": {
        "id": "MCyYTSQ286j9"
      },
      "execution_count": null,
      "outputs": []
    },
    {
      "cell_type": "code",
      "source": [
        "print(\"Food Delivery Time Prediction\")\n",
        "a = int(input(\"Age of Delivery Partner: \"))\n",
        "b = float(input(\"Ratings of Previous Deliveries: \"))\n",
        "c = int(input(\"Total Distance: \"))\n",
        "\n",
        "features = np.array([[a, b, c]])\n",
        "print(\"Predicted Delivery Time in Minutes = \", model.predict(features))"
      ],
      "metadata": {
        "id": "zR2sNx9P89dv"
      },
      "execution_count": null,
      "outputs": []
    },
    {
      "cell_type": "code",
      "source": [],
      "metadata": {
        "id": "ABubmq249Ca2"
      },
      "execution_count": null,
      "outputs": []
    }
  ],
  "metadata": {
    "colab": {
      "provenance": [],
      "authorship_tag": "ABX9TyN3vmNeEwla0/K+amoBEtfX",
      "include_colab_link": true
    },
    "kernelspec": {
      "display_name": "Python 3",
      "name": "python3"
    },
    "language_info": {
      "name": "python"
    }
  },
  "nbformat": 4,
  "nbformat_minor": 0
}